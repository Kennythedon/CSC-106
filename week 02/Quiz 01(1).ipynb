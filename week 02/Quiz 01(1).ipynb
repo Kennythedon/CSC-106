{
 "cells": [
  {
   "cell_type": "markdown",
   "id": "f62634d8",
   "metadata": {},
   "source": [
    "# Question 1"
   ]
  },
  {
   "cell_type": "raw",
   "id": "5abf1969",
   "metadata": {},
   "source": [
    "1. What is the output of the individual cells. (1 point each)\n",
    "\n",
    "2. If there is an error on any of the cells, report the error. (1 point each)\n",
    "\n",
    "3. Propose a fix for the error. (1 point each)"
   ]
  },
  {
   "cell_type": "markdown",
   "id": "9477fe5d",
   "metadata": {},
   "source": [
    "# CELL 1"
   ]
  },
  {
   "cell_type": "code",
   "execution_count": 4,
   "id": "2445308b",
   "metadata": {},
   "outputs": [
    {
     "name": "stdout",
     "output_type": "stream",
     "text": [
      "Hallo Class\n"
     ]
    }
   ],
   "source": [
    "print(\"Hallo Class\")\n",
    "    "
   ]
  },
  {
   "cell_type": "code",
   "execution_count": 6,
   "id": "1286940f",
   "metadata": {},
   "outputs": [
    {
     "name": "stdout",
     "output_type": "stream",
     "text": [
      "Hallo Class\n"
     ]
    }
   ],
   "source": [
    "print(\"Hallo Class\")"
   ]
  },
  {
   "cell_type": "code",
   "execution_count": 7,
   "id": "586aeab4",
   "metadata": {},
   "outputs": [
    {
     "name": "stdout",
     "output_type": "stream",
     "text": [
      "Helo Class\n"
     ]
    }
   ],
   "source": [
    "print(\"Helo Class\")"
   ]
  },
  {
   "cell_type": "code",
   "execution_count": 9,
   "id": "11279f69",
   "metadata": {},
   "outputs": [
    {
     "name": "stdout",
     "output_type": "stream",
     "text": [
      "Hallo Class\n"
     ]
    }
   ],
   "source": [
    "print('Hallo Class')"
   ]
  },
  {
   "cell_type": "code",
   "execution_count": 10,
   "id": "4836c2a5",
   "metadata": {},
   "outputs": [
    {
     "name": "stdout",
     "output_type": "stream",
     "text": [
      "Hallo Class\n"
     ]
    }
   ],
   "source": [
    "print('Hallo Class')"
   ]
  },
  {
   "cell_type": "code",
   "execution_count": 11,
   "id": "27d4277c",
   "metadata": {},
   "outputs": [
    {
     "name": "stdout",
     "output_type": "stream",
     "text": [
      "Hello Clas\n"
     ]
    }
   ],
   "source": [
    "print('Hello Clas')"
   ]
  },
  {
   "cell_type": "code",
   "execution_count": 12,
   "id": "286efb01",
   "metadata": {},
   "outputs": [
    {
     "name": "stdout",
     "output_type": "stream",
     "text": [
      "Hello Class\n"
     ]
    }
   ],
   "source": [
    "print(\"Hello Class\")"
   ]
  },
  {
   "cell_type": "code",
   "execution_count": 13,
   "id": "d2f72fbe",
   "metadata": {},
   "outputs": [
    {
     "name": "stdout",
     "output_type": "stream",
     "text": [
      "Hello Class\n"
     ]
    }
   ],
   "source": [
    "print(\"Hello Class\") "
   ]
  },
  {
   "cell_type": "code",
   "execution_count": 18,
   "id": "dee166ef",
   "metadata": {},
   "outputs": [
    {
     "name": "stdout",
     "output_type": "stream",
     "text": [
      "Hello' 'Class\n"
     ]
    }
   ],
   "source": [
    "print(\"Hello' 'Class\")"
   ]
  },
  {
   "cell_type": "code",
   "execution_count": 17,
   "id": "b93471cb",
   "metadata": {},
   "outputs": [
    {
     "name": "stdout",
     "output_type": "stream",
     "text": [
      "'Hello Class'\n"
     ]
    }
   ],
   "source": [
    "print(\"'Hello Class'\") "
   ]
  }
 ],
 "metadata": {
  "kernelspec": {
   "display_name": "Python 3 (ipykernel)",
   "language": "python",
   "name": "python3"
  },
  "language_info": {
   "codemirror_mode": {
    "name": "ipython",
    "version": 3
   },
   "file_extension": ".py",
   "mimetype": "text/x-python",
   "name": "python",
   "nbconvert_exporter": "python",
   "pygments_lexer": "ipython3",
   "version": "3.12.3"
  }
 },
 "nbformat": 4,
 "nbformat_minor": 5
}
